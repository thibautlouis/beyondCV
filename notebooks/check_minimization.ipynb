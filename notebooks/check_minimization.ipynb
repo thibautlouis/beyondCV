{
 "cells": [
  {
   "cell_type": "markdown",
   "metadata": {},
   "source": [
    "## Preamble\n",
    "\n"
   ]
  },
  {
   "cell_type": "code",
   "execution_count": 72,
   "metadata": {},
   "outputs": [],
   "source": [
    "%matplotlib inline\n",
    "import matplotlib.pyplot as plt\n",
    "plt.rcParams[\"text.usetex\"] = True\n",
    "import pandas as pd\n",
    "import numpy as np\n",
    "from IPython.display import HTML, display\n",
    "import tabulate"
   ]
  },
  {
   "cell_type": "markdown",
   "metadata": {},
   "source": [
    "## Systematics from minimization\n",
    "\n"
   ]
  },
  {
   "cell_type": "markdown",
   "metadata": {},
   "source": [
    "Simulations are all the same (seed is 31415) and we estimate the intrinsic variance on\n",
    "cosmo. parameters *i.e.* the systematics from minimization from 100 simulations\n",
    "\n"
   ]
  },
  {
   "cell_type": "code",
   "execution_count": 73,
   "metadata": {},
   "outputs": [],
   "source": [
    "def get_params(path, pattern=\"*.likelihood\"):\n",
    "    import os, glob\n",
    "    all_files = glob.glob(os.path.join(path, pattern))\n",
    "    # Sort alphabetically\n",
    "    all_files.sort()\n",
    "\n",
    "    header = pd.read_csv(all_files[0], delim_whitespace=True).columns[1:]\n",
    "    df = pd.concat((pd.read_table(f, delim_whitespace=True) for f in all_files))\n",
    "\n",
    "    # Remove '#' in header\n",
    "    df.drop(df.columns[[-1,]], axis=1, inplace=True)\n",
    "    df.columns = header\n",
    "    df.insert(value=df.chi2/2/1944, column=\"chi2_ndf\", loc=7)\n",
    "    params = np.array(df.iloc[:, 2:8])\n",
    "    return params"
   ]
  },
  {
   "cell_type": "code",
   "execution_count": 74,
   "metadata": {},
   "outputs": [],
   "source": [
    "params = get_params(r\"/home/garrido/Workdir/CMB/analysis/beyondCV/output/100_sims_syst\")"
   ]
  },
  {
   "cell_type": "code",
   "execution_count": 75,
   "metadata": {},
   "outputs": [],
   "source": [
    "labels = [r\"$\\theta_\\mathrm{MC}$\",\n",
    "          r\"$A_\\mathrm{s}$\",\n",
    "          r\"$n_\\mathrm{s}$\",\n",
    "          r\"$\\Omega_\\mathrm{b}h^2$\",\n",
    "          r\"$\\Omega_\\mathrm{c}h^2$\",\n",
    "          r\"$\\chi^2/\\mathrm{ndf}$\"]\n",
    "min_mean = np.mean(params, axis=0)\n",
    "min_std  = np.std(params, axis=0)\n",
    "lines = [[r\"$\\mu$\"], [r\"$\\sigma$\"]]\n",
    "table = np.stack([min_mean, min_std])\n",
    "table = np.append(lines, table, axis=1)"
   ]
  },
  {
   "cell_type": "code",
   "execution_count": 76,
   "metadata": {},
   "outputs": [
    {
     "data": {
      "text/html": [
       "<table>\n",
       "<thead>\n",
       "<tr><th>        </th><th style=\"text-align: right;\">  $\\theta_\\mathrm{MC}$</th><th style=\"text-align: right;\">  $A_\\mathrm{s}$</th><th style=\"text-align: right;\">  $n_\\mathrm{s}$</th><th style=\"text-align: right;\">  $\\Omega_\\mathrm{b}h^2$</th><th style=\"text-align: right;\">  $\\Omega_\\mathrm{c}h^2$</th><th style=\"text-align: right;\">  $\\chi^2/\\mathrm{ndf}$</th></tr>\n",
       "</thead>\n",
       "<tbody>\n",
       "<tr><td>$\\mu$   </td><td style=\"text-align: right;\">           0.0104275  </td><td style=\"text-align: right;\">     2.10469e-09</td><td style=\"text-align: right;\">     0.975453   </td><td style=\"text-align: right;\">             0.0224105  </td><td style=\"text-align: right;\">             0.116425   </td><td style=\"text-align: right;\">            0.975523   </td></tr>\n",
       "<tr><td>$\\sigma$</td><td style=\"text-align: right;\">           8.08209e-08</td><td style=\"text-align: right;\">     3.69492e-13</td><td style=\"text-align: right;\">     0.000129202</td><td style=\"text-align: right;\">             6.52134e-06</td><td style=\"text-align: right;\">             7.14235e-05</td><td style=\"text-align: right;\">            3.21921e-06</td></tr>\n",
       "</tbody>\n",
       "</table>"
      ],
      "text/plain": [
       "<IPython.core.display.HTML object>"
      ]
     },
     "metadata": {},
     "output_type": "display_data"
    }
   ],
   "source": [
    "display(HTML(tabulate.tabulate(table, headers=labels, tablefmt=\"html\")))"
   ]
  },
  {
   "cell_type": "markdown",
   "metadata": {},
   "source": [
    "## Compare sucessfull and unsucessful minimization\n",
    "\n"
   ]
  },
  {
   "cell_type": "markdown",
   "metadata": {},
   "source": [
    "### Parse qsub output file\n",
    "\n"
   ]
  },
  {
   "cell_type": "code",
   "execution_count": 77,
   "metadata": {},
   "outputs": [
    {
     "name": "stdout",
     "output_type": "stream",
     "text": [
      "INFO: Read 3003 files\n"
     ]
    }
   ],
   "source": [
    "import os, glob\n",
    "\n",
    "path =r\"/home/garrido/Workdir/CMB/analysis/beyondCV/script/ell_50_2000\"\n",
    "all_files = glob.glob(os.path.join(path, \"*.o*\"))\n",
    "\n",
    "chi2_theory = []\n",
    "chi2_begin  = []\n",
    "chi2_end    = []\n",
    "success     = []\n",
    "surveys     = []\n",
    "start_time  = []\n",
    "stop_time   = []\n",
    "seeds       = []\n",
    "\n",
    "def date2time(line):\n",
    "    time = line.split(\" \", maxsplit=3)[-1]\n",
    "    time = time[:-5].strip()\n",
    "    return pd.to_datetime(time, format=\"%c\")\n",
    "\n",
    "for f in all_files:\n",
    "    find_begin = False\n",
    "    success += [False]\n",
    "    chi2_end += [0]\n",
    "    with open(f) as stream:\n",
    "        for line in stream:\n",
    "            if \"DEBUG: seed\" in line:\n",
    "                seeds += [line.split(\"=\")[1].strip()]\n",
    "            if \"DEBUG: survey\" in line:\n",
    "                survey = line.split(\"=\")[1].strip()\n",
    "                if survey == \"SO\" or survey == \"P\":\n",
    "                  survey += \"x\" + survey\n",
    "                surveys += [survey]\n",
    "            if \"chi2(theo)/ndf\" in line:\n",
    "                if survey in line:\n",
    "                    chi2_theory += [float(line.split(\"=\")[1].strip())]\n",
    "            if \"chi2/ndf\" in line:\n",
    "                if not find_begin:\n",
    "                    chi2_begin += [float(line.split(\"=\")[1].strip())]\n",
    "                    find_begin = True\n",
    "                chi2_end[-1] = float(line.split(\"=\")[1].strip())\n",
    "            if \"Finished succesfully.\" in line:\n",
    "                success[-1] = True\n",
    "            if \"Started on\" in line:\n",
    "                start_time += [date2time(line)]\n",
    "            if \"Ended on\" in line:\n",
    "                stop_time += [date2time(line)]\n",
    "print(\"INFO: Read {} files\".format(len(all_files)))"
   ]
  },
  {
   "cell_type": "markdown",
   "metadata": {},
   "source": [
    "### Convert =list= into =pandas.DataFrame=\n",
    "\n"
   ]
  },
  {
   "cell_type": "code",
   "execution_count": 78,
   "metadata": {},
   "outputs": [
    {
     "data": {
      "text/html": [
       "<div>\n",
       "<style scoped>\n",
       "    .dataframe tbody tr th:only-of-type {\n",
       "        vertical-align: middle;\n",
       "    }\n",
       "\n",
       "    .dataframe tbody tr th {\n",
       "        vertical-align: top;\n",
       "    }\n",
       "\n",
       "    .dataframe thead th {\n",
       "        text-align: right;\n",
       "    }\n",
       "</style>\n",
       "<table border=\"1\" class=\"dataframe\">\n",
       "  <thead>\n",
       "    <tr style=\"text-align: right;\">\n",
       "      <th></th>\n",
       "      <th>duration</th>\n",
       "      <th>chi2_theory</th>\n",
       "      <th>chi2_begin</th>\n",
       "      <th>chi2_end</th>\n",
       "      <th>success</th>\n",
       "      <th>survey</th>\n",
       "    </tr>\n",
       "  </thead>\n",
       "  <tbody>\n",
       "    <tr>\n",
       "      <th>28</th>\n",
       "      <td>00:28:50</td>\n",
       "      <td>0.972313</td>\n",
       "      <td>3.095984</td>\n",
       "      <td>0.969023</td>\n",
       "      <td>False</td>\n",
       "      <td>PxP</td>\n",
       "    </tr>\n",
       "    <tr>\n",
       "      <th>28</th>\n",
       "      <td>00:16:03</td>\n",
       "      <td>1.005701</td>\n",
       "      <td>3.393066</td>\n",
       "      <td>1.004198</td>\n",
       "      <td>True</td>\n",
       "      <td>SOxSO</td>\n",
       "    </tr>\n",
       "    <tr>\n",
       "      <th>28</th>\n",
       "      <td>00:38:43</td>\n",
       "      <td>0.974076</td>\n",
       "      <td>3.282166</td>\n",
       "      <td>0.972015</td>\n",
       "      <td>False</td>\n",
       "      <td>SOxP</td>\n",
       "    </tr>\n",
       "    <tr>\n",
       "      <th>73</th>\n",
       "      <td>00:27:50</td>\n",
       "      <td>0.960580</td>\n",
       "      <td>2.186273</td>\n",
       "      <td>0.959675</td>\n",
       "      <td>False</td>\n",
       "      <td>SOxSO</td>\n",
       "    </tr>\n",
       "    <tr>\n",
       "      <th>73</th>\n",
       "      <td>00:11:16</td>\n",
       "      <td>0.969954</td>\n",
       "      <td>2.142016</td>\n",
       "      <td>0.969248</td>\n",
       "      <td>True</td>\n",
       "      <td>SOxP</td>\n",
       "    </tr>\n",
       "  </tbody>\n",
       "</table>\n",
       "</div>"
      ],
      "text/plain": [
       "   duration  chi2_theory  chi2_begin  chi2_end  success survey\n",
       "28 00:28:50     0.972313    3.095984  0.969023    False    PxP\n",
       "28 00:16:03     1.005701    3.393066  1.004198     True  SOxSO\n",
       "28 00:38:43     0.974076    3.282166  0.972015    False   SOxP\n",
       "73 00:27:50     0.960580    2.186273  0.959675    False  SOxSO\n",
       "73 00:11:16     0.969954    2.142016  0.969248     True   SOxP"
      ]
     },
     "execution_count": 78,
     "metadata": {},
     "output_type": "execute_result"
    }
   ],
   "source": [
    "df = pd.DataFrame({\"duration\": np.array(stop_time)-np.array(start_time),\n",
    "                   \"chi2_theory\": chi2_theory,\n",
    "                   \"chi2_begin\": chi2_begin,\n",
    "                   \"chi2_end\": chi2_end,\n",
    "                   \"success\": success,\n",
    "                   \"survey\": surveys},\n",
    "                  index=np.array(seeds, dtype=np.uint))\n",
    "df.sort_index(inplace=True)\n",
    "df.head()"
   ]
  },
  {
   "cell_type": "markdown",
   "metadata": {},
   "source": [
    "### Get duration statistics\n",
    "\n"
   ]
  },
  {
   "cell_type": "code",
   "execution_count": 79,
   "metadata": {},
   "outputs": [
    {
     "data": {
      "text/plain": [
       "count                      3003\n",
       "mean     0 days 00:20:38.789543\n",
       "std      0 days 00:08:35.697947\n",
       "min             0 days 00:03:56\n",
       "25%             0 days 00:14:32\n",
       "50%             0 days 00:19:39\n",
       "75%             0 days 00:25:26\n",
       "max             0 days 01:47:28\n",
       "Name: duration, dtype: object"
      ]
     },
     "execution_count": 79,
     "metadata": {},
     "output_type": "execute_result"
    }
   ],
   "source": [
    "df.duration.describe()"
   ]
  },
  {
   "cell_type": "markdown",
   "metadata": {},
   "source": [
    "### Get number of sucessfull minimization\n",
    "\n"
   ]
  },
  {
   "cell_type": "code",
   "execution_count": 80,
   "metadata": {},
   "outputs": [
    {
     "data": {
      "text/plain": [
       "1907"
      ]
     },
     "execution_count": 80,
     "metadata": {},
     "output_type": "execute_result"
    }
   ],
   "source": [
    "np.sum(df.success)"
   ]
  },
  {
   "cell_type": "markdown",
   "metadata": {},
   "source": [
    "How many minimizations succeed for the three configurations *i.e.* SOxSO, SOxP, PxP\n",
    "\n"
   ]
  },
  {
   "cell_type": "code",
   "execution_count": 81,
   "metadata": {},
   "outputs": [
    {
     "data": {
      "text/plain": [
       "(252, 51)"
      ]
     },
     "execution_count": 81,
     "metadata": {},
     "output_type": "execute_result"
    }
   ],
   "source": [
    "dff = df.groupby(df.index).success.describe()\n",
    "np.sum((dff.top == True) & (dff.freq == 3)), \\\n",
    "np.sum((dff.top == False) & (dff.freq == 3))"
   ]
  },
  {
   "cell_type": "markdown",
   "metadata": {},
   "source": [
    "#### Plot distribution of $\\chi^2$ between successfull and unsuccessful minimizations\n",
    "\n"
   ]
  },
  {
   "cell_type": "code",
   "execution_count": 82,
   "metadata": {},
   "outputs": [],
   "source": [
    "import seaborn as sb"
   ]
  },
  {
   "cell_type": "code",
   "execution_count": 83,
   "metadata": {},
   "outputs": [
    {
     "name": "stderr",
     "output_type": "stream",
     "text": [
      "/home/garrido/.local/lib/python3.7/site-packages/scipy/stats/stats.py:1713: FutureWarning: Using a non-tuple sequence for multidimensional indexing is deprecated; use `arr[tuple(seq)]` instead of `arr[seq]`. In the future this will be interpreted as an array index, `arr[np.array(seq)]`, which will result either in an error or a different result.\n",
      "  return np.add.reduce(sorted[indexer] * weights, axis=axis) / sumval\n"
     ]
    },
    {
     "data": {
      "text/plain": [
       "<matplotlib.legend.Legend at 0x7f2ea7e62208>"
      ]
     },
     "execution_count": 83,
     "metadata": {},
     "output_type": "execute_result"
    },
    {
     "data": {
      "image/png": "[encoded data removed]",
      "text/plain": [
       "<Figure size 432x288 with 1 Axes>"
      ]
     },
     "metadata": {},
     "output_type": "display_data"
    }
   ],
   "source": [
    "tmpl=\"{}\\n$\\chi^2$ = {:.3f} $\\pm$ {:.3f}\"\n",
    "df1 = df.chi2_theory[df.success]\n",
    "df2 = df.chi2_theory[~df.success]\n",
    "sb.distplot(df1, label=tmpl.format(\"sucessfull\",np.mean(df1),np.std(df1)), color=\"green\", axlabel=r\"$\\chi^2$ (theory)\")\n",
    "sb.distplot(df2, label=tmpl.format(\"unsuccessful\",np.mean(df2), np.std(df2)), color=\"red\", axlabel=r\"$\\chi^2$ (theory)\")\n",
    "plt.legend()"
   ]
  },
  {
   "cell_type": "code",
   "execution_count": 84,
   "metadata": {},
   "outputs": [
    {
     "name": "stderr",
     "output_type": "stream",
     "text": [
      "/home/garrido/.local/lib/python3.7/site-packages/scipy/stats/stats.py:1713: FutureWarning: Using a non-tuple sequence for multidimensional indexing is deprecated; use `arr[tuple(seq)]` instead of `arr[seq]`. In the future this will be interpreted as an array index, `arr[np.array(seq)]`, which will result either in an error or a different result.\n",
      "  return np.add.reduce(sorted[indexer] * weights, axis=axis) / sumval\n"
     ]
    },
    {
     "data": {
      "text/plain": [
       "<matplotlib.legend.Legend at 0x7f2ea4743828>"
      ]
     },
     "execution_count": 84,
     "metadata": {},
     "output_type": "execute_result"
    },
    {
     "data": {
      "image/png": "[encoded data removed]",
      "text/plain": [
       "<Figure size 432x288 with 1 Axes>"
      ]
     },
     "metadata": {},
     "output_type": "display_data"
    }
   ],
   "source": [
    "tmpl=\"{}\\n$\\chi^2$ = {:.3f} $\\pm$ {:.3f}\"\n",
    "df1 = df.chi2_begin[df.success]\n",
    "df2 = df.chi2_begin[~df.success]\n",
    "sb.distplot(df1, label=tmpl.format(\"sucessfull\",np.mean(df1),np.std(df1)), color=\"green\", axlabel=r\"$\\chi^2$ (begin)\")\n",
    "sb.distplot(df2, label=tmpl.format(\"unsuccessful\",np.mean(df2),np.std(df2)), color=\"red\", axlabel=r\"$\\chi^2$ (begin)\")\n",
    "plt.legend()"
   ]
  },
  {
   "cell_type": "code",
   "execution_count": 85,
   "metadata": {},
   "outputs": [
    {
     "name": "stderr",
     "output_type": "stream",
     "text": [
      "/home/garrido/.local/lib/python3.7/site-packages/scipy/stats/stats.py:1713: FutureWarning: Using a non-tuple sequence for multidimensional indexing is deprecated; use `arr[tuple(seq)]` instead of `arr[seq]`. In the future this will be interpreted as an array index, `arr[np.array(seq)]`, which will result either in an error or a different result.\n",
      "  return np.add.reduce(sorted[indexer] * weights, axis=axis) / sumval\n"
     ]
    },
    {
     "data": {
      "text/plain": [
       "<matplotlib.legend.Legend at 0x7f2ea42ea630>"
      ]
     },
     "execution_count": 85,
     "metadata": {},
     "output_type": "execute_result"
    },
    {
     "data": {
      "image/png": "[encoded data removed]",
      "text/plain": [
       "<Figure size 432x288 with 1 Axes>"
      ]
     },
     "metadata": {},
     "output_type": "display_data"
    }
   ],
   "source": [
    "tmpl=\"{}\\n$\\chi^2$ = {:.3f} $\\pm$ {:.3f}\"\n",
    "df1 = df.chi2_end[df.success]\n",
    "df2 = df.chi2_end[~df.success]\n",
    "sb.distplot(df1, label=tmpl.format(\"sucessfull\",np.mean(df1),np.std(df1)), color=\"green\", axlabel=r\"$\\chi^2$ (found)\")\n",
    "sb.distplot(df2, label=tmpl.format(\"unsuccessful\",np.mean(df2),np.std(df2)), color=\"red\", axlabel=r\"$\\chi^2$ (found)\")\n",
    "plt.legend()"
   ]
  },
  {
   "cell_type": "markdown",
   "metadata": {},
   "source": [
    "## Profiles\n",
    "\n"
   ]
  },
  {
   "cell_type": "markdown",
   "metadata": {},
   "source": [
    "Build dictionnary of parameters and associated column in `OptmizeResult` object\n",
    "\n"
   ]
  },
  {
   "cell_type": "code",
   "execution_count": 86,
   "metadata": {},
   "outputs": [],
   "source": [
    "parnames = {\n",
    "    \"cosmomc_theta\" : {\"latex\": r\"$\\theta_\\mathrm{MC}$\", \"col\": 0},\n",
    "    \"logA\" : {\"latex\": r\"$\\log(10^{10}A_\\mathrm{s})$\", \"col\": 1},\n",
    "    \"ns\" : {\"latex\": r\"$n_\\mathrm{s}$\", \"col\": 2},\n",
    "    \"ombh2\" : {\"latex\": r\"$\\Omega_\\mathrm{b}h^2$\", \"col\": 3},\n",
    "    \"omch2\" : {\"latex\": r\"$\\Omega_\\mathrm{c}h^2$\", \"col\": 4},\n",
    "}"
   ]
  },
  {
   "cell_type": "markdown",
   "metadata": {},
   "source": [
    "Get params from `pickle` object\n",
    "\n"
   ]
  },
  {
   "cell_type": "code",
   "execution_count": 87,
   "metadata": {},
   "outputs": [],
   "source": [
    "def get_params(path, pattern=\"*.pkl\", parname=None):\n",
    "    import os, glob\n",
    "    all_files = glob.glob(os.path.join(path, pattern))\n",
    "\n",
    "    chi2s = np.empty(len(all_files))\n",
    "    values = np.empty(len(all_files))\n",
    "    success = np.empty(len(all_files))\n",
    "    import pickle\n",
    "    for i, f in enumerate(all_files):\n",
    "        results = pickle.load(open(f, \"rb\"))\n",
    "\n",
    "        # Get minimization configuration\n",
    "        setup = results.get(\"setup\")\n",
    "        lmin, lmax = setup.get(\"experiment\").get(\"lmin\"), setup.get(\"experiment\").get(\"lmax\")\n",
    "        ndf = lmax - lmin\n",
    "\n",
    "        # Get optimization results\n",
    "        opt_result = results.get(\"results\").get(\"OptimizeResult\")\n",
    "        par = setup.get(\"cobaya\").get(\"params\").get(parname)\n",
    "        if isinstance(par, float):\n",
    "            values[i] = par\n",
    "            ndf -= 4\n",
    "        elif par.get(\"value\"):\n",
    "            values[i] = par.get(\"value\")\n",
    "            ndf -= 4\n",
    "        else:\n",
    "            col = int(parnames[parname][\"col\"])\n",
    "            values[i] = opt_result.get(\"x\")[col]\n",
    "            ndf -= 5\n",
    "        chi2s[i] = opt_result.get(\"fun\")/ndf\n",
    "        success[i] = False if \"failed\" in opt_result.get(\"message\") else True\n",
    "    arr = np.array([values, chi2s, success]).transpose()\n",
    "    return pd.DataFrame(arr, columns=[\"val\", \"chi2\", \"ok\"])"
   ]
  },
  {
   "cell_type": "markdown",
   "metadata": {},
   "source": [
    "Plot everything together\n",
    "\n"
   ]
  },
  {
   "cell_type": "code",
   "execution_count": 88,
   "metadata": {},
   "outputs": [
    {
     "data": {
      "image/png": "[encoded data removed]",
      "text/plain": [
       "<Figure size 1008x720 with 5 Axes>"
      ]
     },
     "metadata": {},
     "output_type": "display_data"
    }
   ],
   "source": [
    "plt.figure(figsize=(14, 10))\n",
    "for i, par in enumerate(parnames):\n",
    "  params = get_params(r\"/home/garrido/Workdir/CMB/analysis/beyondCV/output/profile\", \"*_{}_*.pkl\".format(par), par)\n",
    "  good = (params.ok == True)\n",
    "\n",
    "  df = params.groupby(\"val\").min()\n",
    "  plt.subplot(2, 3, i+1)\n",
    "  plt.plot(df.index, df.chi2, \"og\", label=\"\")\n",
    "  mins = get_params(r\"/home/garrido/Workdir/CMB/analysis/beyondCV/output/profile\", \"*maximum_[0-9]*.pkl\", par)\n",
    "  plt.plot(mins.val, mins.chi2, \"^r\", alpha=0.5, label=\"best min.\")\n",
    "\n",
    "  # Fit with a 2nd order polynomial\n",
    "  p = np.poly1d(np.polyfit(df.index, df.chi2, 2))\n",
    "  x = np.linspace(df.index[0], df.index[-1], 100)\n",
    "  plt.plot(x, p(x), \"-r\", label=\"polynomial fit\")\n",
    "  plt.xlabel(parnames[par][\"latex\"], fontsize=13)\n",
    "  if not i%3:\n",
    "    plt.ylabel(r\"$\\chi^2/\\mathrm{ndf}$\")\n",
    "  # else:\n",
    "    # plt.gca().set_yticklabels([])\n",
    "  # plt.ylim(0.9, 1.5)\n",
    "  plt.legend()\n",
    "plt.subplots_adjust(hspace=0.2, wspace=0.25)"
   ]
  }
 ],
 "metadata": {
  "kernelspec": {
   "display_name": "Python 3",
   "language": "python",
   "name": "python3"
  },
  "language_info": {
   "codemirror_mode": {
    "name": "ipython",
    "version": 3
   },
   "file_extension": ".py",
   "mimetype": "text/x-python",
   "name": "python",
   "nbconvert_exporter": "python",
   "pygments_lexer": "ipython3",
   "version": "3.7.2"
  },
  "org": null
 },
 "nbformat": 4,
 "nbformat_minor": 1
}
